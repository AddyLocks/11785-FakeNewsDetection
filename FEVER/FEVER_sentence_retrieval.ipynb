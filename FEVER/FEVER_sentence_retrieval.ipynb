{
  "nbformat": 4,
  "nbformat_minor": 0,
  "metadata": {
    "colab": {
      "provenance": []
    },
    "kernelspec": {
      "name": "python3",
      "display_name": "Python 3"
    },
    "language_info": {
      "name": "python"
    }
  },
  "cells": [
    {
      "cell_type": "code",
      "source": [
        "# !pip install sentence_transformers\n",
        "import requests\n",
        "from bs4 import BeautifulSoup\n",
        "import torch\n",
        "from sentence_transformers import SentenceTransformer"
      ],
      "metadata": {
        "id": "nt4zdTrAD_YD"
      },
      "execution_count": 92,
      "outputs": []
    },
    {
      "cell_type": "code",
      "source": [
        "def get_sentences_for_claim(wikipedia_headings):\n",
        "\n",
        "    url = 'https://en.wikipedia.org/w/api.php'\n",
        "    sentences = []\n",
        "\n",
        "    for subject in wikipedia_headings:\n",
        "\n",
        "        subject = subject.replace(\"-LRB-\", \"(\")\n",
        "        subject = subject.replace(\"-RRB-\", \")\")\n",
        "        try:\n",
        "            params = {\n",
        "                        'action': 'parse',\n",
        "                        'page': subject,\n",
        "                        'format': 'json',\n",
        "                        'prop':'text',\n",
        "                        'redirects':''\n",
        "                    }\n",
        "        \n",
        "        \n",
        "            response = requests.get(url, params=params)\n",
        "            data = response.json()\n",
        "            \n",
        "            raw_html = data['parse']['text']['*']\n",
        "            soup = BeautifulSoup(raw_html,'html.parser')\n",
        "            soup.find_all('p')\n",
        "            text = ''\n",
        "            \n",
        "            for p in soup.find_all('p'):\n",
        "                text += p.text\n",
        "            \n",
        "            sentence_list = text.split(\".\")\n",
        "            sentences.extend(sentence_list)\n",
        "        except:\n",
        "            print(\"Following subject not recognized by the wikipedia API\", subject)\n",
        "            continue\n",
        "\n",
        "    return sentences"
      ],
      "metadata": {
        "id": "xb5rPRs4WBOz"
      },
      "execution_count": 93,
      "outputs": []
    },
    {
      "cell_type": "code",
      "source": [
        "query = \"Colin Kaepernick became a starting quarterback during the 49ers 63rd season in the National Football League.\"\n",
        "documents = ['Colin_Kaepernick', 'National_League_-LRB-English_football-RRB-', 'National_Football_League']\n",
        "\n",
        "sentences = get_sentences_for_claim(documents)\n",
        "\n",
        "model = SentenceTransformer('bert-base-nli-mean-tokens')\n",
        "sentence_embeddings = model.encode(sentences)\n",
        "query_embeddings = model.encode(query)\n",
        "\n",
        "similarity = torch.cosine_similarity(\n",
        "    torch.from_numpy(query_embeddings),\n",
        "    torch.from_numpy(sentence_embeddings)\n",
        ")\n",
        "\n",
        "indices = torch.argsort(similarity, descending=True).numpy()[:5]\n",
        "output = [sentences[i] for i in indices]\n",
        "\n",
        "for out in output:\n",
        "    print(out)"
      ],
      "metadata": {
        "colab": {
          "base_uri": "https://localhost:8080/"
        },
        "id": "yPxRH02YS-YE",
        "outputId": "29bbdac3-3dde-4f45-cd29-8612c4ebb6a2"
      },
      "execution_count": 94,
      "outputs": [
        {
          "output_type": "stream",
          "name": "stdout",
          "text": [
            " During the 2013 season, his first full season as a starter, Kaepernick helped the 49ers reach the NFC Championship Game\n",
            "[76] He returned to the starting lineup the following week and threw for 183 yards and two touchdowns in the 49ers' 41–13 loss to the Atlanta Falcons\n",
            "[78] For the 2016 NFL season, Kaepernick played twelve games and ended the season with 2,241 passing yards, sixteen passing touchdowns, four interceptions and added 468 rushing yards and two rushing touchdowns\n",
            " Kaepernick began his professional football career as a backup quarterback to Alex Smith, and became the 49ers' starter in the middle of the 2012 season after Smith suffered a concussion\n",
            "[51]\n",
            "In the season opener of the 2013 season against the Green Bay Packers, Kaepernick threw for a career-high 412 yards and three touchdowns, the first 400-yard game by a 49ers quarterback since Tim Rattay on October 10, 2004\n"
          ]
        }
      ]
    }
  ]
}